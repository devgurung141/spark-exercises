{
 "cells": [
  {
   "cell_type": "code",
   "execution_count": 1,
   "id": "155e3e9b",
   "metadata": {},
   "outputs": [],
   "source": [
    "import pandas as pd\n",
    "import numpy as np\n",
    "\n",
    "\n",
    "import pyspark\n",
    "from pydataset import data\n",
    "\n",
    "from pyspark.sql.functions import col, expr, concat, lit, regexp_extract, regexp_replace, slice, sum, avg, min, max, count, mean\n"
   ]
  },
  {
   "cell_type": "code",
   "execution_count": 2,
   "id": "c3e51980",
   "metadata": {},
   "outputs": [
    {
     "name": "stderr",
     "output_type": "stream",
     "text": [
      "Setting default log level to \"WARN\".\n",
      "To adjust logging level use sc.setLogLevel(newLevel). For SparkR, use setLogLevel(newLevel).\n"
     ]
    },
    {
     "name": "stdout",
     "output_type": "stream",
     "text": [
      "23/03/08 21:30:31 WARN NativeCodeLoader: Unable to load native-hadoop library for your platform... using builtin-java classes where applicable\n"
     ]
    }
   ],
   "source": [
    "spark = pyspark.sql.SparkSession.builder.getOrCreate()"
   ]
  },
  {
   "cell_type": "markdown",
   "id": "6c3d6891",
   "metadata": {},
   "source": [
    "#### 1. Create a spark data frame that contains your favorite programming languages.\n",
    "\n",
    "- The name of the column should be language\n",
    "- View the schema of the dataframe\n",
    "- Output the shape of the dataframe\n",
    "- Show the first 5 records in the dataframe"
   ]
  },
  {
   "cell_type": "code",
   "execution_count": 3,
   "id": "2ba68c9b",
   "metadata": {},
   "outputs": [
    {
     "data": {
      "text/html": [
       "<div>\n",
       "<style scoped>\n",
       "    .dataframe tbody tr th:only-of-type {\n",
       "        vertical-align: middle;\n",
       "    }\n",
       "\n",
       "    .dataframe tbody tr th {\n",
       "        vertical-align: top;\n",
       "    }\n",
       "\n",
       "    .dataframe thead th {\n",
       "        text-align: right;\n",
       "    }\n",
       "</style>\n",
       "<table border=\"1\" class=\"dataframe\">\n",
       "  <thead>\n",
       "    <tr style=\"text-align: right;\">\n",
       "      <th></th>\n",
       "      <th>language</th>\n",
       "    </tr>\n",
       "  </thead>\n",
       "  <tbody>\n",
       "    <tr>\n",
       "      <th>0</th>\n",
       "      <td>Python</td>\n",
       "    </tr>\n",
       "    <tr>\n",
       "      <th>1</th>\n",
       "      <td>Java</td>\n",
       "    </tr>\n",
       "    <tr>\n",
       "      <th>2</th>\n",
       "      <td>PHP</td>\n",
       "    </tr>\n",
       "    <tr>\n",
       "      <th>3</th>\n",
       "      <td>C++</td>\n",
       "    </tr>\n",
       "  </tbody>\n",
       "</table>\n",
       "</div>"
      ],
      "text/plain": [
       "  language\n",
       "0   Python\n",
       "1     Java\n",
       "2      PHP\n",
       "3      C++"
      ]
     },
     "execution_count": 3,
     "metadata": {},
     "output_type": "execute_result"
    }
   ],
   "source": [
    "# create pandas dataframe\n",
    "\n",
    "pd_df = pd.DataFrame({'language': ['Python', 'Java', 'PHP', 'C++']})\n",
    "\n",
    "# peak into a dataframe\n",
    "pd_df"
   ]
  },
  {
   "cell_type": "code",
   "execution_count": 4,
   "id": "4bb5f3d7",
   "metadata": {
    "scrolled": false
   },
   "outputs": [
    {
     "data": {
      "text/plain": [
       "StructType([StructField('language', StringType(), True)])"
      ]
     },
     "execution_count": 4,
     "metadata": {},
     "output_type": "execute_result"
    }
   ],
   "source": [
    "# create spark dataframe\n",
    "df = spark.createDataFrame(pd_df)\n",
    "\n",
    "# view the schema of a dataframe\n",
    "df.schema"
   ]
  },
  {
   "cell_type": "code",
   "execution_count": 5,
   "id": "2f7198f6",
   "metadata": {},
   "outputs": [
    {
     "name": "stderr",
     "output_type": "stream",
     "text": [
      "                                                                                \r"
     ]
    },
    {
     "data": {
      "text/plain": [
       "(4, 1)"
      ]
     },
     "execution_count": 5,
     "metadata": {},
     "output_type": "execute_result"
    }
   ],
   "source": [
    "# get shape\n",
    "df.count(), len(df.columns)"
   ]
  },
  {
   "cell_type": "code",
   "execution_count": 6,
   "id": "7bb4dafd",
   "metadata": {},
   "outputs": [
    {
     "name": "stdout",
     "output_type": "stream",
     "text": [
      "+--------+\n",
      "|language|\n",
      "+--------+\n",
      "|  Python|\n",
      "|    Java|\n",
      "|     PHP|\n",
      "|     C++|\n",
      "+--------+\n",
      "\n"
     ]
    }
   ],
   "source": [
    "# show the 5 first records of dataframe\n",
    "df.show(5)"
   ]
  },
  {
   "cell_type": "markdown",
   "id": "d417440c",
   "metadata": {},
   "source": [
    "#### 2. Load the mpg dataset as a spark dataframe.\n",
    "\n",
    "- a. Create 1 column of output that contains a message like the one below:\n",
    "    The 1999 audi a4 has a 4 cylinder engine.\n",
    "\n",
    "For each vehicle.\n",
    "\n",
    "- b. Transform the trans column so that it only contains either manual or auto."
   ]
  },
  {
   "cell_type": "code",
   "execution_count": 7,
   "id": "0af95941",
   "metadata": {},
   "outputs": [
    {
     "name": "stdout",
     "output_type": "stream",
     "text": [
      "+------------+-----+-----+----+---+----------+---+---+---+---+-------+\n",
      "|manufacturer|model|displ|year|cyl|     trans|drv|cty|hwy| fl|  class|\n",
      "+------------+-----+-----+----+---+----------+---+---+---+---+-------+\n",
      "|        audi|   a4|  1.8|1999|  4|  auto(l5)|  f| 18| 29|  p|compact|\n",
      "|        audi|   a4|  1.8|1999|  4|manual(m5)|  f| 21| 29|  p|compact|\n",
      "|        audi|   a4|  2.0|2008|  4|manual(m6)|  f| 20| 31|  p|compact|\n",
      "|        audi|   a4|  2.0|2008|  4|  auto(av)|  f| 21| 30|  p|compact|\n",
      "|        audi|   a4|  2.8|1999|  6|  auto(l5)|  f| 16| 26|  p|compact|\n",
      "+------------+-----+-----+----+---+----------+---+---+---+---+-------+\n",
      "only showing top 5 rows\n",
      "\n"
     ]
    }
   ],
   "source": [
    "# load mpg dataset as a spark dataframe\n",
    "mpg = spark.createDataFrame(data('mpg'))\n",
    "\n",
    "# peak into a dataframe\n",
    "mpg.show(5)"
   ]
  },
  {
   "cell_type": "code",
   "execution_count": 8,
   "id": "4d0d5460",
   "metadata": {},
   "outputs": [
    {
     "name": "stdout",
     "output_type": "stream",
     "text": [
      "+------------------------------------------+\n",
      "|message                                   |\n",
      "+------------------------------------------+\n",
      "|The 1999 audi a4 has a  4 cyclinder engine|\n",
      "|The 1999 audi a4 has a  4 cyclinder engine|\n",
      "|The 2008 audi a4 has a  4 cyclinder engine|\n",
      "|The 2008 audi a4 has a  4 cyclinder engine|\n",
      "|The 1999 audi a4 has a  6 cyclinder engine|\n",
      "+------------------------------------------+\n",
      "only showing top 5 rows\n",
      "\n"
     ]
    }
   ],
   "source": [
    "mpg.select(concat(lit('The '), mpg.year, lit(' '), mpg.manufacturer, lit(' '), \n",
    "            mpg.model, lit(' has a '), lit(' '), mpg.cyl, lit(' cyclinder engine')).alias ('message')).show(5, truncate=False)"
   ]
  },
  {
   "cell_type": "markdown",
   "id": "c7ed4220",
   "metadata": {},
   "source": [
    "b. Transform the trans column so that it only contains either manual or auto"
   ]
  },
  {
   "cell_type": "code",
   "execution_count": 15,
   "id": "364ecae8",
   "metadata": {},
   "outputs": [
    {
     "name": "stdout",
     "output_type": "stream",
     "text": [
      "+------------+----------+-----+----+---+--------+---+---+---+---+-------+\n",
      "|manufacturer|     model|displ|year|cyl|   trans|drv|cty|hwy| fl|  class|\n",
      "+------------+----------+-----+----+---+--------+---+---+---+---+-------+\n",
      "|        audi|        a4|  1.8|1999|  4|auto(l5)|  f| 18| 29|  p|compact|\n",
      "|        audi|        a4|  2.0|2008|  4|auto(av)|  f| 21| 30|  p|compact|\n",
      "|        audi|        a4|  2.8|1999|  6|auto(l5)|  f| 16| 26|  p|compact|\n",
      "|        audi|        a4|  3.1|2008|  6|auto(av)|  f| 18| 27|  p|compact|\n",
      "|        audi|a4 quattro|  1.8|1999|  4|auto(l5)|  4| 16| 25|  p|compact|\n",
      "+------------+----------+-----+----+---+--------+---+---+---+---+-------+\n",
      "only showing top 5 rows\n",
      "\n"
     ]
    }
   ],
   "source": [
    "mpg.filter(mpg.trans.like('auto%')).show(5)"
   ]
  },
  {
   "cell_type": "code",
   "execution_count": 16,
   "id": "58ebaf6c",
   "metadata": {},
   "outputs": [
    {
     "name": "stdout",
     "output_type": "stream",
     "text": [
      "+------------+----------+-----+----+---+----------+---+---+---+---+-------+\n",
      "|manufacturer|     model|displ|year|cyl|     trans|drv|cty|hwy| fl|  class|\n",
      "+------------+----------+-----+----+---+----------+---+---+---+---+-------+\n",
      "|        audi|        a4|  1.8|1999|  4|manual(m5)|  f| 21| 29|  p|compact|\n",
      "|        audi|        a4|  2.0|2008|  4|manual(m6)|  f| 20| 31|  p|compact|\n",
      "|        audi|        a4|  2.8|1999|  6|manual(m5)|  f| 18| 26|  p|compact|\n",
      "|        audi|a4 quattro|  1.8|1999|  4|manual(m5)|  4| 18| 26|  p|compact|\n",
      "|        audi|a4 quattro|  2.0|2008|  4|manual(m6)|  4| 20| 28|  p|compact|\n",
      "+------------+----------+-----+----+---+----------+---+---+---+---+-------+\n",
      "only showing top 5 rows\n",
      "\n"
     ]
    }
   ],
   "source": [
    "mpg.filter(mpg.trans.like('manual%')).show(5)"
   ]
  },
  {
   "cell_type": "markdown",
   "id": "af2d1df2",
   "metadata": {},
   "source": [
    "#### 3. Load the tips dataset as a spark dataframe.\n",
    "\n",
    "- a. What percentage of observations are smokers?\n",
    "- b. Create a column that contains the tip percentage\n",
    "- c. Calculate the average tip percentage for each combination of sex and smoker."
   ]
  },
  {
   "cell_type": "code",
   "execution_count": 17,
   "id": "9a2d17aa",
   "metadata": {},
   "outputs": [
    {
     "name": "stdout",
     "output_type": "stream",
     "text": [
      "+----------+----+------+------+---+------+----+\n",
      "|total_bill| tip|   sex|smoker|day|  time|size|\n",
      "+----------+----+------+------+---+------+----+\n",
      "|     16.99|1.01|Female|    No|Sun|Dinner|   2|\n",
      "|     10.34|1.66|  Male|    No|Sun|Dinner|   3|\n",
      "|     21.01| 3.5|  Male|    No|Sun|Dinner|   3|\n",
      "|     23.68|3.31|  Male|    No|Sun|Dinner|   2|\n",
      "|     24.59|3.61|Female|    No|Sun|Dinner|   4|\n",
      "+----------+----+------+------+---+------+----+\n",
      "only showing top 5 rows\n",
      "\n"
     ]
    }
   ],
   "source": [
    "tips = spark.createDataFrame(data('tips'))\n",
    "tips.show(5)"
   ]
  },
  {
   "cell_type": "code",
   "execution_count": 25,
   "id": "f56c1d63",
   "metadata": {},
   "outputs": [
    {
     "name": "stdout",
     "output_type": "stream",
     "text": [
      "+--------------------+\n",
      "|percentage of smoker|\n",
      "+--------------------+\n",
      "|  38.114754098360656|\n",
      "+--------------------+\n",
      "\n"
     ]
    }
   ],
   "source": [
    "smoker_df = tips.filter(tips.smoker=='Yes')\n",
    "smoker_df.select(((count(smoker_df.smoker)/tips.count())*100 ).alias ('percentage of smoker')).show()"
   ]
  },
  {
   "cell_type": "code",
   "execution_count": 41,
   "id": "f377ae9a",
   "metadata": {},
   "outputs": [
    {
     "name": "stdout",
     "output_type": "stream",
     "text": [
      "+----------+----+------------------+\n",
      "|total_bill| tip|    tip percentage|\n",
      "+----------+----+------------------+\n",
      "|     16.99|1.01|5.9446733372572105|\n",
      "|     10.34|1.66|16.054158607350097|\n",
      "|     21.01| 3.5|16.658733936220845|\n",
      "|     23.68|3.31| 13.97804054054054|\n",
      "|     24.59|3.61|14.680764538430255|\n",
      "|     25.29|4.71| 18.62396204033215|\n",
      "|      8.77| 2.0| 22.80501710376283|\n",
      "|     26.88|3.12|11.607142857142858|\n",
      "|     15.04|1.96|13.031914893617023|\n",
      "|     14.78|3.23|21.853856562922868|\n",
      "|     10.27|1.71| 16.65043816942551|\n",
      "|     35.26| 5.0|14.180374361883155|\n",
      "|     15.42|1.57|10.181582360570687|\n",
      "|     18.43| 3.0|16.277807921866522|\n",
      "|     14.83|3.02|20.364126770060686|\n",
      "|     21.58|3.92|18.164967562557923|\n",
      "|     10.33|1.67| 16.16650532429816|\n",
      "|     16.29|3.71|22.774708410067525|\n",
      "|     16.97| 3.5|20.624631703005306|\n",
      "|     20.65|3.35|16.222760290556902|\n",
      "+----------+----+------------------+\n",
      "only showing top 20 rows\n",
      "\n"
     ]
    }
   ],
   "source": [
    "tips.select(col('total_bill'), col('tip'), ((tips.tip/tips.total_bill)* 100).alias ('tip percentage')).show()"
   ]
  },
  {
   "cell_type": "code",
   "execution_count": 26,
   "id": "74875aed",
   "metadata": {},
   "outputs": [
    {
     "name": "stdout",
     "output_type": "stream",
     "text": [
      "+----------+----+------+------+----+------+----+\n",
      "|total_bill| tip|   sex|smoker| day|  time|size|\n",
      "+----------+----+------+------+----+------+----+\n",
      "|     38.01| 3.0|  Male|   Yes| Sat|Dinner|   4|\n",
      "|     11.24|1.76|  Male|   Yes| Sat|Dinner|   2|\n",
      "|     20.29|3.21|  Male|   Yes| Sat|Dinner|   2|\n",
      "|     13.81| 2.0|  Male|   Yes| Sat|Dinner|   2|\n",
      "|     11.02|1.98|  Male|   Yes| Sat|Dinner|   2|\n",
      "|     18.29|3.76|  Male|   Yes| Sat|Dinner|   4|\n",
      "|      3.07| 1.0|Female|   Yes| Sat|Dinner|   1|\n",
      "|     15.01|2.09|  Male|   Yes| Sat|Dinner|   2|\n",
      "|     26.86|3.14|Female|   Yes| Sat|Dinner|   2|\n",
      "|     25.28| 5.0|Female|   Yes| Sat|Dinner|   2|\n",
      "|     17.92|3.08|  Male|   Yes| Sat|Dinner|   2|\n",
      "|     19.44| 3.0|  Male|   Yes|Thur| Lunch|   2|\n",
      "|     32.68| 5.0|  Male|   Yes|Thur| Lunch|   2|\n",
      "|     28.97| 3.0|  Male|   Yes| Fri|Dinner|   2|\n",
      "|      5.75| 1.0|Female|   Yes| Fri|Dinner|   2|\n",
      "|     16.32| 4.3|Female|   Yes| Fri|Dinner|   2|\n",
      "|     40.17|4.73|  Male|   Yes| Fri|Dinner|   4|\n",
      "|     27.28| 4.0|  Male|   Yes| Fri|Dinner|   2|\n",
      "|     12.03| 1.5|  Male|   Yes| Fri|Dinner|   2|\n",
      "|     21.01| 3.0|  Male|   Yes| Fri|Dinner|   2|\n",
      "+----------+----+------+------+----+------+----+\n",
      "only showing top 20 rows\n",
      "\n"
     ]
    }
   ],
   "source": [
    "smoker_df.show()"
   ]
  },
  {
   "cell_type": "code",
   "execution_count": 43,
   "id": "025e2d95",
   "metadata": {},
   "outputs": [
    {
     "name": "stdout",
     "output_type": "stream",
     "text": [
      "+----------+----+----+------+----+------+----+\n",
      "|total_bill| tip| sex|smoker| day|  time|size|\n",
      "+----------+----+----+------+----+------+----+\n",
      "|     38.01| 3.0|Male|   Yes| Sat|Dinner|   4|\n",
      "|     11.24|1.76|Male|   Yes| Sat|Dinner|   2|\n",
      "|     20.29|3.21|Male|   Yes| Sat|Dinner|   2|\n",
      "|     13.81| 2.0|Male|   Yes| Sat|Dinner|   2|\n",
      "|     11.02|1.98|Male|   Yes| Sat|Dinner|   2|\n",
      "|     18.29|3.76|Male|   Yes| Sat|Dinner|   4|\n",
      "|     15.01|2.09|Male|   Yes| Sat|Dinner|   2|\n",
      "|     17.92|3.08|Male|   Yes| Sat|Dinner|   2|\n",
      "|     19.44| 3.0|Male|   Yes|Thur| Lunch|   2|\n",
      "|     32.68| 5.0|Male|   Yes|Thur| Lunch|   2|\n",
      "|     28.97| 3.0|Male|   Yes| Fri|Dinner|   2|\n",
      "|     40.17|4.73|Male|   Yes| Fri|Dinner|   4|\n",
      "|     27.28| 4.0|Male|   Yes| Fri|Dinner|   2|\n",
      "|     12.03| 1.5|Male|   Yes| Fri|Dinner|   2|\n",
      "|     21.01| 3.0|Male|   Yes| Fri|Dinner|   2|\n",
      "|     15.36|1.64|Male|   Yes| Sat|Dinner|   2|\n",
      "|     20.49|4.06|Male|   Yes| Sat|Dinner|   2|\n",
      "|     25.21|4.29|Male|   Yes| Sat|Dinner|   2|\n",
      "|      16.0| 2.0|Male|   Yes|Thur| Lunch|   2|\n",
      "|     50.81|10.0|Male|   Yes| Sat|Dinner|   3|\n",
      "+----------+----+----+------+----+------+----+\n",
      "only showing top 20 rows\n",
      "\n"
     ]
    }
   ],
   "source": [
    "male_smoker = tips.filter((tips.sex == \"Male\") & (tips.smoker == 'Yes'))\n",
    "male_smoker.show()"
   ]
  },
  {
   "cell_type": "code",
   "execution_count": 51,
   "id": "6085aa61",
   "metadata": {},
   "outputs": [
    {
     "name": "stdout",
     "output_type": "stream",
     "text": [
      "+---------------------------------+\n",
      "|avg tip percentage of male smoker|\n",
      "+---------------------------------+\n",
      "|               15.277117520248513|\n",
      "+---------------------------------+\n",
      "\n"
     ]
    }
   ],
   "source": [
    "male_smoker.select(avg((tips.tip/tips.total_bill)* 100).alias('avg tip percentage of male smoker')).show()"
   ]
  },
  {
   "cell_type": "code",
   "execution_count": 35,
   "id": "a536f636",
   "metadata": {},
   "outputs": [
    {
     "name": "stdout",
     "output_type": "stream",
     "text": [
      "+----------+----+------+------+----+------+----+\n",
      "|total_bill| tip|   sex|smoker| day|  time|size|\n",
      "+----------+----+------+------+----+------+----+\n",
      "|      3.07| 1.0|Female|   Yes| Sat|Dinner|   1|\n",
      "|     26.86|3.14|Female|   Yes| Sat|Dinner|   2|\n",
      "|     25.28| 5.0|Female|   Yes| Sat|Dinner|   2|\n",
      "|      5.75| 1.0|Female|   Yes| Fri|Dinner|   2|\n",
      "|     16.32| 4.3|Female|   Yes| Fri|Dinner|   2|\n",
      "|     11.35| 2.5|Female|   Yes| Fri|Dinner|   2|\n",
      "|     15.38| 3.0|Female|   Yes| Fri|Dinner|   2|\n",
      "|      44.3| 2.5|Female|   Yes| Sat|Dinner|   3|\n",
      "|     22.42|3.48|Female|   Yes| Sat|Dinner|   2|\n",
      "|     14.31| 4.0|Female|   Yes| Sat|Dinner|   2|\n",
      "|     17.51| 3.0|Female|   Yes| Sun|Dinner|   2|\n",
      "|     10.59|1.61|Female|   Yes| Sat|Dinner|   2|\n",
      "|     10.63| 2.0|Female|   Yes| Sat|Dinner|   2|\n",
      "|       9.6| 4.0|Female|   Yes| Sun|Dinner|   2|\n",
      "|      20.9| 3.5|Female|   Yes| Sun|Dinner|   3|\n",
      "|     18.15| 3.5|Female|   Yes| Sun|Dinner|   3|\n",
      "|     19.81|4.19|Female|   Yes|Thur| Lunch|   2|\n",
      "|     43.11| 5.0|Female|   Yes|Thur| Lunch|   4|\n",
      "|      13.0| 2.0|Female|   Yes|Thur| Lunch|   2|\n",
      "|     12.74|2.01|Female|   Yes|Thur| Lunch|   2|\n",
      "+----------+----+------+------+----+------+----+\n",
      "only showing top 20 rows\n",
      "\n"
     ]
    }
   ],
   "source": [
    "female_smoker = tips.filter((tips.sex == \"Female\") & (tips.smoker == 'Yes'))\n",
    "female_smoker.show()"
   ]
  },
  {
   "cell_type": "code",
   "execution_count": 52,
   "id": "805f2c05",
   "metadata": {},
   "outputs": [
    {
     "name": "stdout",
     "output_type": "stream",
     "text": [
      "+-----------------------------------+\n",
      "|avg tip percentage of female smoker|\n",
      "+-----------------------------------+\n",
      "|                 15.277117520248513|\n",
      "+-----------------------------------+\n",
      "\n"
     ]
    }
   ],
   "source": [
    "male_smoker.select(avg((tips.tip/tips.total_bill)* 100).alias('avg tip percentage of female smoker')).show()"
   ]
  },
  {
   "cell_type": "code",
   "execution_count": null,
   "id": "60fe0ad9",
   "metadata": {},
   "outputs": [],
   "source": []
  }
 ],
 "metadata": {
  "kernelspec": {
   "display_name": "Python 3 (ipykernel)",
   "language": "python",
   "name": "python3"
  },
  "language_info": {
   "codemirror_mode": {
    "name": "ipython",
    "version": 3
   },
   "file_extension": ".py",
   "mimetype": "text/x-python",
   "name": "python",
   "nbconvert_exporter": "python",
   "pygments_lexer": "ipython3",
   "version": "3.9.13"
  }
 },
 "nbformat": 4,
 "nbformat_minor": 5
}
